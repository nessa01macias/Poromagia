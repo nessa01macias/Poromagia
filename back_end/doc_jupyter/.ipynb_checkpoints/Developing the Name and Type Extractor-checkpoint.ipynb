{
 "cells": [
  {
   "cell_type": "markdown",
   "metadata": {},
   "source": [
    "<h1> Exacting text from a card "
   ]
  },
  {
   "cell_type": "markdown",
   "metadata": {},
   "source": [
    "Something extremetly important to take into consideration is the fact that as we will use regions of interest for image extractions, the picture of the cards need to be taken in **exactly** the same angle and the same coordinates."
   ]
  },
  {
   "cell_type": "code",
   "execution_count": 1,
   "metadata": {
    "scrolled": true
   },
   "outputs": [],
   "source": [
    "# cv2 is the module import name for opencv-python needed for the cv algorithm\n",
    "import cv2\n",
    "# pillow is needed to editing images, printing them, rotating them...\n",
    "from PIL import Image\n",
    "# basic path works for all the files\n",
    "import sys\n",
    "# array handling\n",
    "import numpy as np\n",
    "# for text detecting\n",
    "import easyocr\n",
    "# looping through images\n",
    "import glob\n",
    "# pandas for data frames\n",
    "import pandas as pd\n",
    "# for detecting the language of the text extracted\n",
    "import langid"
   ]
  },
  {
   "cell_type": "markdown",
   "metadata": {},
   "source": [
    "1. Loading an image with opencv. They become a bunch of numbers in a array that refer to [r,g,b] which means \"per pixel\" how much color of each is used. in order to display an array, we use pillow."
   ]
  },
  {
   "cell_type": "code",
   "execution_count": 2,
   "metadata": {
    "scrolled": true
   },
   "outputs": [],
   "source": [
    "# parameter 0 makes it black & white, now it only has one element per pixel. pixel is inside the range of 0 (completely black) to 255 (completely white)\n",
    "image = cv2.imread(r\"C:\\Users\\nessa\\Poromagia\\Poromagia\\back_end\\resources\\img\\7.jpg\")\n",
    "gray_image = cv2.cvtColor(image, cv2.COLOR_BGR2GRAY)\n",
    "# i rotate the image to vertical\n",
    "gray_image = cv2.rotate(gray_image,cv2.ROTATE_90_CLOCKWISE)\n",
    "# Image from Pillow makes the pic printable as a image and not only an array\n",
    "# Image.fromarray(gray_image).show()"
   ]
  },
  {
   "cell_type": "code",
   "execution_count": 3,
   "metadata": {
    "scrolled": true
   },
   "outputs": [
    {
     "data": {
      "text/plain": [
       "array([[[229, 204, 178],\n",
       "        [217, 192, 166],\n",
       "        [210, 185, 159],\n",
       "        ...,\n",
       "        [178, 176, 165],\n",
       "        [178, 176, 165],\n",
       "        [178, 176, 165]],\n",
       "\n",
       "       [[238, 213, 187],\n",
       "        [231, 206, 180],\n",
       "        [227, 202, 176],\n",
       "        ...,\n",
       "        [178, 176, 165],\n",
       "        [178, 176, 165],\n",
       "        [178, 176, 165]],\n",
       "\n",
       "       [[241, 216, 190],\n",
       "        [240, 215, 189],\n",
       "        [242, 217, 191],\n",
       "        ...,\n",
       "        [178, 176, 165],\n",
       "        [178, 176, 165],\n",
       "        [178, 176, 165]],\n",
       "\n",
       "       ...,\n",
       "\n",
       "       [[171, 185, 197],\n",
       "        [173, 187, 199],\n",
       "        [175, 189, 201],\n",
       "        ...,\n",
       "        [171, 187, 199],\n",
       "        [168, 184, 196],\n",
       "        [167, 183, 195]],\n",
       "\n",
       "       [[178, 192, 204],\n",
       "        [178, 192, 204],\n",
       "        [178, 192, 204],\n",
       "        ...,\n",
       "        [171, 187, 199],\n",
       "        [168, 184, 196],\n",
       "        [167, 183, 195]],\n",
       "\n",
       "       [[186, 200, 212],\n",
       "        [184, 198, 210],\n",
       "        [181, 195, 207],\n",
       "        ...,\n",
       "        [172, 188, 200],\n",
       "        [169, 185, 197],\n",
       "        [168, 184, 196]]], dtype=uint8)"
      ]
     },
     "execution_count": 3,
     "metadata": {},
     "output_type": "execute_result"
    }
   ],
   "source": [
    "image"
   ]
  },
  {
   "cell_type": "markdown",
   "metadata": {},
   "source": [
    "2. Binarization. Images will have different shadings and we would like all of them to be as similar to each other as possible, therefore threshold is needed. If we didn't use the contract, probably the text extraction would not be even half of efficient as it can be after applying the threshold. [check out doc!]\n",
    "(https://docs.opencv.org/4.x/d7/d4d/tutorial_py_thresholding.html)\n"
   ]
  },
  {
   "cell_type": "code",
   "execution_count": 4,
   "metadata": {},
   "outputs": [],
   "source": [
    "thresh, gray_thresh_image = cv2.threshold(gray_image, 120, 240, cv2.THRESH_BINARY)\n",
    "gray_thresh_image = np.asarray(gray_thresh_image)\n",
    "# Image.fromarray(gray_thresh_image).show()"
   ]
  },
  {
   "cell_type": "markdown",
   "metadata": {},
   "source": [
    "3. Finding edges for localization and pointing out the contours. We need to separate the [card name], [card image] and [card type] from the picture before extracting the text. The previous steps work for the text extraction, as the image extraction needs other kind of preprocessing before getting the image in the region of interest.\n",
    "Something really important to take into consideration is that all the cards must be in the same position, and the same angle everytime the picture is taken to avoid more pre-processing and make the ROI more accurate.\n",
    "https://circuitdigest.com/microcontroller-projects/license-plate-recognition-using-raspberry-pi-and-opencv check out!"
   ]
  },
  {
   "cell_type": "code",
   "execution_count": 5,
   "metadata": {},
   "outputs": [
    {
     "name": "stdout",
     "output_type": "stream",
     "text": [
      "number of rows  2048  and columns  1536\n"
     ]
    }
   ],
   "source": [
    "num_rows, num_cols = gray_thresh_image.shape\n",
    "print(\"number of rows \",num_rows, \" and columns \",num_cols)\n",
    "# the number of rows and columns are important for the following part-extrations of the images. they will be changing as the proper\n",
    "#values from the arduino come to the game"
   ]
  },
  {
   "cell_type": "markdown",
   "metadata": {},
   "source": [
    "4. Extracting the text from [card type] & [card name]. The regions of interest have been identified and we will try to extract text from them. The best way is to make a function that is called every time we need extraction. \n",
    "https://www.youtube.com/watch?v=owiqdzha_DE&t=384s&ab_channel=DigitalSreeni\n",
    "https://pyimagesearch.com/2020/09/14/getting-started-with-easyocr-for-optical-character-recognition/"
   ]
  },
  {
   "cell_type": "code",
   "execution_count": 2,
   "metadata": {},
   "outputs": [
    {
     "name": "stdout",
     "output_type": "stream",
     "text": [
      "['this', 'is', 'a', 'string', 'I', 'created']\n",
      "this is string created\n"
     ]
    }
   ],
   "source": [
    "source_string = r\"this is a string I created\"\n",
    "print(source_string.split())\n",
    "modified_string =' '.join([x for x in source_string.split() if len(x)>1])\n",
    "\n",
    "print(modified_string)\n"
   ]
  },
  {
   "cell_type": "code",
   "execution_count": null,
   "metadata": {},
   "outputs": [],
   "source": [
    "def clean_text(text: str) -> str:\n",
    "    included = string.ascii_letters\n",
    "    new_str = []\n",
    "    for word in text.split():\n",
    "        if len(word)>1:\n",
    "            for letter in word:\n",
    "                if letter in included or letter == ' ':\n",
    "                    new_str.append(char)\n",
    "    new_text = ''.join(new_str)\n",
    "    return new_text.strip()\n"
   ]
  },
  {
   "cell_type": "code",
   "execution_count": 6,
   "metadata": {},
   "outputs": [],
   "source": [
    "# we need string library to include all ASCII letters\n",
    "import string \n",
    "\n",
    "def clean_text(text:str) -> str:\n",
    "    # ascii_letters include all the letters from english alphabet in lower and upper case\n",
    "    included = string.ascii_letters\n",
    "    # first we treat the text as an array because strings are inmutable in python\n",
    "    new_str = []\n",
    "    for char in text: #h, #o, #l, #a, #!\n",
    "        if char in included or char == ' ' or char == '—':\n",
    "            # appeding to the array if the string is included\n",
    "            new_str.append(char)\n",
    "    # removing extra spaces\n",
    "    new_text = ''.join(new_str)\n",
    "    return new_text.strip()"
   ]
  },
  {
   "cell_type": "code",
   "execution_count": 7,
   "metadata": {},
   "outputs": [
    {
     "name": "stderr",
     "output_type": "stream",
     "text": [
      "Using CPU. Note: This module is much faster with a GPU.\n"
     ]
    }
   ],
   "source": [
    "reader_popular = easyocr.Reader(['en', 'es', 'fr', 'de', 'it', 'pt'], gpu = False)"
   ]
  },
  {
   "cell_type": "code",
   "execution_count": 8,
   "metadata": {},
   "outputs": [],
   "source": [
    "def extract_text(rows, columns, gray_thresh_image) -> str:\n",
    "\n",
    "    # first we implement the region cutting\n",
    "    # print(rows[0], rows[1], \"   \", columns[0], columns[1])\n",
    "    roi_image = gray_thresh_image[rows[0]:rows[1], columns[0]:columns[1]]\n",
    "    Image.fromarray(roi_image).show()\n",
    "    # proceed to convert it to an array\n",
    "    roi_image = np.array(roi_image)\n",
    "    # reading the text, details = 0 as we only want the text and not the box values, and paragraph in order to avoid a list but get a full word\n",
    "    results = reader_popular.readtext(roi_image, detail=0,paragraph= True)\n",
    "    return results[0] #clean_text(results[0])\n"
   ]
  },
  {
   "cell_type": "code",
   "execution_count": 9,
   "metadata": {
    "scrolled": true
   },
   "outputs": [
    {
     "name": "stdout",
     "output_type": "stream",
     "text": [
      "the text from the top part (card name) is MEyhem Devil  and from the middle part (card type) is Creature\n"
     ]
    }
   ],
   "source": [
    "rows_cardType = [1050, 1150]\n",
    "columns_cardType = [250, 1200]\n",
    "\n",
    "rows_cardName = [250, 500]\n",
    "columns_cardName = [250, 1200]\n",
    "\n",
    "\n",
    "# number of rows  2048  and columns  1536\n",
    "\n",
    "text_cardName = extract_text(rows_cardName, columns_cardName, gray_thresh_image)\n",
    "text_cardType = extract_text(rows_cardType, columns_cardType, gray_thresh_image)\n",
    "print(\"the text from the top part (card name) is\", text_cardName , \" and from the middle part (card type) is\", text_cardType)\n"
   ]
  },
  {
   "cell_type": "markdown",
   "metadata": {},
   "source": [
    "4. The language from the card is needed in order to reduce the number of possibilities of match. I will proceed to read the description of each card and try to identify the language as easyOCR supports plenty of them.\n",
    "Languages from Poromagia's cards: https://scryfall.com/docs/api/languages\n",
    "Languages from easyOCR's library: https://www.jaided.ai/easyocr/\n",
    "Languages not included in easyOCR library but included in Scryfall, and therefore, can't be recognised: \n",
    "Sanskrit, Phyrexian, Hebrew & Anctient Greek. Check out the languages code from each one as some of them are different (chinese lang!)"
   ]
  },
  {
   "cell_type": "code",
   "execution_count": 10,
   "metadata": {},
   "outputs": [],
   "source": [
    "def choose_language (option: int):\n",
    "    if option == 0:\n",
    "        reader_popular = easyocr.Reader(['en', 'es', 'fr', 'de', 'it', 'pt'], gpu = False)\n",
    "    elif option == 1:\n",
    "        reader_chinease_sim = easyocr.Reader(['ch_sim'], gpu = False)\n",
    "    elif option == 2:\n",
    "        reader_chinease_tra = easyocr.Reader([ 'ch_tra'], gpu = False)\n",
    "    elif option == 3:\n",
    "        reader_rusian = easyocr.Reader(['ru'], gpu = False)\n",
    "    elif option == 4:\n",
    "        reader_janapease = easyocr.Reader(['ko'], gpu = False)\n",
    "    elif option == 5:\n",
    "        reader_latin = easyocr.Reader(['la'], gpu = False)\n",
    "    elif option == 6:\n",
    "        reader_arabic = easyocr.Reader(['ar'], gpu = False)"
   ]
  },
  {
   "cell_type": "code",
   "execution_count": 11,
   "metadata": {
    "scrolled": false
   },
   "outputs": [
    {
     "name": "stderr",
     "output_type": "stream",
     "text": [
      "Using CPU. Note: This module is much faster with a GPU.\n"
     ]
    }
   ],
   "source": [
    "# some languages are compatible with each other, but the list below includes the lanaguages that the api has the most cards written on so it is fine!\n",
    "reader = easyocr.Reader(['en', 'es', 'fr', 'de', 'it', 'pt'], gpu = False) # does rasperry pi have gpu? https://www.electromaker.io/blog/article/the-raspberry-pi-now-supports-external-gpus\n",
    "# ValueError: Chinese_tra is only compatible with English, try lang_list=[\"ch_tra\",\"en\"]"
   ]
  },
  {
   "cell_type": "code",
   "execution_count": 12,
   "metadata": {},
   "outputs": [],
   "source": [
    "def get_language(gray_thresh_image:int) -> str:\n",
    "    rows_cardText = [1150, 1560]\n",
    "    columns_cardText=[270, 1300]\n",
    "    text_cardText = extract_text(rows_cardText, columns_cardText, gray_thresh_image)\n",
    "    language = langid.classify(text_cardText)\n",
    "    return language[0]"
   ]
  },
  {
   "cell_type": "code",
   "execution_count": 13,
   "metadata": {
    "scrolled": true
   },
   "outputs": [
    {
     "name": "stdout",
     "output_type": "stream",
     "text": [
      "the language of the card is  en\n"
     ]
    }
   ],
   "source": [
    "print(\"the language of the card is \",get_language(gray_thresh_image))"
   ]
  },
  {
   "cell_type": "markdown",
   "metadata": {},
   "source": [
    "5. Glob and trying the process with 15 images."
   ]
  },
  {
   "cell_type": "code",
   "execution_count": 14,
   "metadata": {},
   "outputs": [],
   "source": [
    "def read_image(path:str) -> int:\n",
    "    gray_image = cv2.imread(path, 0)\n",
    "    gray_image = cv2.rotate(gray_image,cv2.ROTATE_90_CLOCKWISE)\n",
    "    thresh, gray_thresh_image = cv2.threshold(gray_image, 120, 240, cv2.THRESH_BINARY_INV)\n",
    "    # gray_thresh_image = np.asarray(gray_thresh_image)\n",
    "    return gray_thresh_image"
   ]
  },
  {
   "cell_type": "code",
   "execution_count": 15,
   "metadata": {},
   "outputs": [
    {
     "data": {
      "text/plain": [
       "['C:\\\\Users\\\\nessa\\\\Poromagia\\\\Poromagia\\\\back_end\\\\resources\\\\img\\\\1.jpg',\n",
       " 'C:\\\\Users\\\\nessa\\\\Poromagia\\\\Poromagia\\\\back_end\\\\resources\\\\img\\\\10.jpg',\n",
       " 'C:\\\\Users\\\\nessa\\\\Poromagia\\\\Poromagia\\\\back_end\\\\resources\\\\img\\\\11.jpg',\n",
       " 'C:\\\\Users\\\\nessa\\\\Poromagia\\\\Poromagia\\\\back_end\\\\resources\\\\img\\\\12.jpg',\n",
       " 'C:\\\\Users\\\\nessa\\\\Poromagia\\\\Poromagia\\\\back_end\\\\resources\\\\img\\\\13.jpg',\n",
       " 'C:\\\\Users\\\\nessa\\\\Poromagia\\\\Poromagia\\\\back_end\\\\resources\\\\img\\\\14.jpg',\n",
       " 'C:\\\\Users\\\\nessa\\\\Poromagia\\\\Poromagia\\\\back_end\\\\resources\\\\img\\\\15.jpg',\n",
       " 'C:\\\\Users\\\\nessa\\\\Poromagia\\\\Poromagia\\\\back_end\\\\resources\\\\img\\\\2.jpg',\n",
       " 'C:\\\\Users\\\\nessa\\\\Poromagia\\\\Poromagia\\\\back_end\\\\resources\\\\img\\\\3.jpg',\n",
       " 'C:\\\\Users\\\\nessa\\\\Poromagia\\\\Poromagia\\\\back_end\\\\resources\\\\img\\\\4.jpg',\n",
       " 'C:\\\\Users\\\\nessa\\\\Poromagia\\\\Poromagia\\\\back_end\\\\resources\\\\img\\\\5.jpg',\n",
       " 'C:\\\\Users\\\\nessa\\\\Poromagia\\\\Poromagia\\\\back_end\\\\resources\\\\img\\\\6.jpg',\n",
       " 'C:\\\\Users\\\\nessa\\\\Poromagia\\\\Poromagia\\\\back_end\\\\resources\\\\img\\\\7.jpg',\n",
       " 'C:\\\\Users\\\\nessa\\\\Poromagia\\\\Poromagia\\\\back_end\\\\resources\\\\img\\\\8.jpg',\n",
       " 'C:\\\\Users\\\\nessa\\\\Poromagia\\\\Poromagia\\\\back_end\\\\resources\\\\img\\\\9.jpg']"
      ]
     },
     "execution_count": 15,
     "metadata": {},
     "output_type": "execute_result"
    }
   ],
   "source": [
    "files = r\"C:\\Users\\nessa\\Poromagia\\Poromagia\\back_end\\resources\\img\\*\"\n",
    "glob.glob(files)"
   ]
  },
  {
   "cell_type": "code",
   "execution_count": 16,
   "metadata": {},
   "outputs": [],
   "source": [
    "# new data frame for storing the results\n",
    "df = pd.DataFrame()\n",
    "img_number = 1 \n",
    "\n",
    "rows_cardType = [1000, 1200]\n",
    "columns_cardType = [250, 1200]\n",
    "\n",
    "rows_cardName = [250, 500]\n",
    "columns_cardName = [250, 1200]"
   ]
  },
  {
   "cell_type": "code",
   "execution_count": 18,
   "metadata": {},
   "outputs": [
    {
     "name": "stdout",
     "output_type": "stream",
     "text": [
      "C:\\Users\\nessa\\Poromagia\\Poromagia\\back_end\\resources\\img\\1.jpg\n"
     ]
    },
    {
     "name": "stderr",
     "output_type": "stream",
     "text": [
      "C:\\Users\\nessa\\AppData\\Local\\Temp\\ipykernel_2900\\1562617406.py:9: FutureWarning: The frame.append method is deprecated and will be removed from pandas in a future version. Use pandas.concat instead.\n",
      "  df = df.append(pd.DataFrame({'image': file, 'name': card_name, 'type':card_type, 'language':card_language}, index=[0]), ignore_index=True)\n"
     ]
    },
    {
     "name": "stdout",
     "output_type": "stream",
     "text": [
      "C:\\Users\\nessa\\Poromagia\\Poromagia\\back_end\\resources\\img\\10.jpg\n"
     ]
    },
    {
     "name": "stderr",
     "output_type": "stream",
     "text": [
      "C:\\Users\\nessa\\AppData\\Local\\Temp\\ipykernel_2900\\1562617406.py:9: FutureWarning: The frame.append method is deprecated and will be removed from pandas in a future version. Use pandas.concat instead.\n",
      "  df = df.append(pd.DataFrame({'image': file, 'name': card_name, 'type':card_type, 'language':card_language}, index=[0]), ignore_index=True)\n"
     ]
    },
    {
     "name": "stdout",
     "output_type": "stream",
     "text": [
      "C:\\Users\\nessa\\Poromagia\\Poromagia\\back_end\\resources\\img\\11.jpg\n"
     ]
    },
    {
     "name": "stderr",
     "output_type": "stream",
     "text": [
      "C:\\Users\\nessa\\AppData\\Local\\Temp\\ipykernel_2900\\1562617406.py:9: FutureWarning: The frame.append method is deprecated and will be removed from pandas in a future version. Use pandas.concat instead.\n",
      "  df = df.append(pd.DataFrame({'image': file, 'name': card_name, 'type':card_type, 'language':card_language}, index=[0]), ignore_index=True)\n"
     ]
    },
    {
     "name": "stdout",
     "output_type": "stream",
     "text": [
      "C:\\Users\\nessa\\Poromagia\\Poromagia\\back_end\\resources\\img\\12.jpg\n"
     ]
    },
    {
     "name": "stderr",
     "output_type": "stream",
     "text": [
      "C:\\Users\\nessa\\AppData\\Local\\Temp\\ipykernel_2900\\1562617406.py:9: FutureWarning: The frame.append method is deprecated and will be removed from pandas in a future version. Use pandas.concat instead.\n",
      "  df = df.append(pd.DataFrame({'image': file, 'name': card_name, 'type':card_type, 'language':card_language}, index=[0]), ignore_index=True)\n"
     ]
    },
    {
     "name": "stdout",
     "output_type": "stream",
     "text": [
      "C:\\Users\\nessa\\Poromagia\\Poromagia\\back_end\\resources\\img\\13.jpg\n"
     ]
    },
    {
     "name": "stderr",
     "output_type": "stream",
     "text": [
      "C:\\Users\\nessa\\AppData\\Local\\Temp\\ipykernel_2900\\1562617406.py:9: FutureWarning: The frame.append method is deprecated and will be removed from pandas in a future version. Use pandas.concat instead.\n",
      "  df = df.append(pd.DataFrame({'image': file, 'name': card_name, 'type':card_type, 'language':card_language}, index=[0]), ignore_index=True)\n"
     ]
    },
    {
     "name": "stdout",
     "output_type": "stream",
     "text": [
      "C:\\Users\\nessa\\Poromagia\\Poromagia\\back_end\\resources\\img\\14.jpg\n"
     ]
    },
    {
     "name": "stderr",
     "output_type": "stream",
     "text": [
      "C:\\Users\\nessa\\AppData\\Local\\Temp\\ipykernel_2900\\1562617406.py:9: FutureWarning: The frame.append method is deprecated and will be removed from pandas in a future version. Use pandas.concat instead.\n",
      "  df = df.append(pd.DataFrame({'image': file, 'name': card_name, 'type':card_type, 'language':card_language}, index=[0]), ignore_index=True)\n"
     ]
    },
    {
     "name": "stdout",
     "output_type": "stream",
     "text": [
      "C:\\Users\\nessa\\Poromagia\\Poromagia\\back_end\\resources\\img\\15.jpg\n"
     ]
    },
    {
     "name": "stderr",
     "output_type": "stream",
     "text": [
      "C:\\Users\\nessa\\AppData\\Local\\Temp\\ipykernel_2900\\1562617406.py:9: FutureWarning: The frame.append method is deprecated and will be removed from pandas in a future version. Use pandas.concat instead.\n",
      "  df = df.append(pd.DataFrame({'image': file, 'name': card_name, 'type':card_type, 'language':card_language}, index=[0]), ignore_index=True)\n"
     ]
    },
    {
     "name": "stdout",
     "output_type": "stream",
     "text": [
      "C:\\Users\\nessa\\Poromagia\\Poromagia\\back_end\\resources\\img\\2.jpg\n"
     ]
    },
    {
     "name": "stderr",
     "output_type": "stream",
     "text": [
      "C:\\Users\\nessa\\AppData\\Local\\Temp\\ipykernel_2900\\1562617406.py:9: FutureWarning: The frame.append method is deprecated and will be removed from pandas in a future version. Use pandas.concat instead.\n",
      "  df = df.append(pd.DataFrame({'image': file, 'name': card_name, 'type':card_type, 'language':card_language}, index=[0]), ignore_index=True)\n"
     ]
    },
    {
     "name": "stdout",
     "output_type": "stream",
     "text": [
      "C:\\Users\\nessa\\Poromagia\\Poromagia\\back_end\\resources\\img\\3.jpg\n"
     ]
    },
    {
     "name": "stderr",
     "output_type": "stream",
     "text": [
      "C:\\Users\\nessa\\AppData\\Local\\Temp\\ipykernel_2900\\1562617406.py:9: FutureWarning: The frame.append method is deprecated and will be removed from pandas in a future version. Use pandas.concat instead.\n",
      "  df = df.append(pd.DataFrame({'image': file, 'name': card_name, 'type':card_type, 'language':card_language}, index=[0]), ignore_index=True)\n"
     ]
    },
    {
     "name": "stdout",
     "output_type": "stream",
     "text": [
      "C:\\Users\\nessa\\Poromagia\\Poromagia\\back_end\\resources\\img\\4.jpg\n"
     ]
    },
    {
     "name": "stderr",
     "output_type": "stream",
     "text": [
      "C:\\Users\\nessa\\AppData\\Local\\Temp\\ipykernel_2900\\1562617406.py:9: FutureWarning: The frame.append method is deprecated and will be removed from pandas in a future version. Use pandas.concat instead.\n",
      "  df = df.append(pd.DataFrame({'image': file, 'name': card_name, 'type':card_type, 'language':card_language}, index=[0]), ignore_index=True)\n"
     ]
    },
    {
     "name": "stdout",
     "output_type": "stream",
     "text": [
      "C:\\Users\\nessa\\Poromagia\\Poromagia\\back_end\\resources\\img\\5.jpg\n"
     ]
    },
    {
     "name": "stderr",
     "output_type": "stream",
     "text": [
      "C:\\Users\\nessa\\AppData\\Local\\Temp\\ipykernel_2900\\1562617406.py:9: FutureWarning: The frame.append method is deprecated and will be removed from pandas in a future version. Use pandas.concat instead.\n",
      "  df = df.append(pd.DataFrame({'image': file, 'name': card_name, 'type':card_type, 'language':card_language}, index=[0]), ignore_index=True)\n"
     ]
    },
    {
     "name": "stdout",
     "output_type": "stream",
     "text": [
      "C:\\Users\\nessa\\Poromagia\\Poromagia\\back_end\\resources\\img\\6.jpg\n"
     ]
    },
    {
     "name": "stderr",
     "output_type": "stream",
     "text": [
      "C:\\Users\\nessa\\AppData\\Local\\Temp\\ipykernel_2900\\1562617406.py:9: FutureWarning: The frame.append method is deprecated and will be removed from pandas in a future version. Use pandas.concat instead.\n",
      "  df = df.append(pd.DataFrame({'image': file, 'name': card_name, 'type':card_type, 'language':card_language}, index=[0]), ignore_index=True)\n"
     ]
    },
    {
     "name": "stdout",
     "output_type": "stream",
     "text": [
      "C:\\Users\\nessa\\Poromagia\\Poromagia\\back_end\\resources\\img\\7.jpg\n"
     ]
    },
    {
     "name": "stderr",
     "output_type": "stream",
     "text": [
      "C:\\Users\\nessa\\AppData\\Local\\Temp\\ipykernel_2900\\1562617406.py:9: FutureWarning: The frame.append method is deprecated and will be removed from pandas in a future version. Use pandas.concat instead.\n",
      "  df = df.append(pd.DataFrame({'image': file, 'name': card_name, 'type':card_type, 'language':card_language}, index=[0]), ignore_index=True)\n"
     ]
    },
    {
     "name": "stdout",
     "output_type": "stream",
     "text": [
      "C:\\Users\\nessa\\Poromagia\\Poromagia\\back_end\\resources\\img\\8.jpg\n"
     ]
    },
    {
     "name": "stderr",
     "output_type": "stream",
     "text": [
      "C:\\Users\\nessa\\AppData\\Local\\Temp\\ipykernel_2900\\1562617406.py:9: FutureWarning: The frame.append method is deprecated and will be removed from pandas in a future version. Use pandas.concat instead.\n",
      "  df = df.append(pd.DataFrame({'image': file, 'name': card_name, 'type':card_type, 'language':card_language}, index=[0]), ignore_index=True)\n"
     ]
    },
    {
     "name": "stdout",
     "output_type": "stream",
     "text": [
      "C:\\Users\\nessa\\Poromagia\\Poromagia\\back_end\\resources\\img\\9.jpg\n"
     ]
    },
    {
     "name": "stderr",
     "output_type": "stream",
     "text": [
      "C:\\Users\\nessa\\AppData\\Local\\Temp\\ipykernel_2900\\1562617406.py:9: FutureWarning: The frame.append method is deprecated and will be removed from pandas in a future version. Use pandas.concat instead.\n",
      "  df = df.append(pd.DataFrame({'image': file, 'name': card_name, 'type':card_type, 'language':card_language}, index=[0]), ignore_index=True)\n"
     ]
    }
   ],
   "source": [
    "# exetracting names of the 15 images\n",
    "\n",
    "for file in glob.glob(files):\n",
    "    print(file)\n",
    "    image = read_image(file)\n",
    "    card_name = extract_text(rows_cardName, columns_cardName, image)\n",
    "    card_type = extract_text(rows_cardType, columns_cardType, image)\n",
    "    card_language = get_language(image)\n",
    "    df = df.append(pd.DataFrame({'image': file, 'name': card_name, 'type':card_type, 'language':card_language}, index=[0]), ignore_index=True)\n",
    "    img_number += 1\n",
    "    "
   ]
  },
  {
   "cell_type": "code",
   "execution_count": 19,
   "metadata": {},
   "outputs": [
    {
     "data": {
      "text/html": [
       "<div>\n",
       "<style scoped>\n",
       "    .dataframe tbody tr th:only-of-type {\n",
       "        vertical-align: middle;\n",
       "    }\n",
       "\n",
       "    .dataframe tbody tr th {\n",
       "        vertical-align: top;\n",
       "    }\n",
       "\n",
       "    .dataframe thead th {\n",
       "        text-align: right;\n",
       "    }\n",
       "</style>\n",
       "<table border=\"1\" class=\"dataframe\">\n",
       "  <thead>\n",
       "    <tr style=\"text-align: right;\">\n",
       "      <th></th>\n",
       "      <th>image</th>\n",
       "      <th>name</th>\n",
       "      <th>type</th>\n",
       "      <th>language</th>\n",
       "    </tr>\n",
       "  </thead>\n",
       "  <tbody>\n",
       "    <tr>\n",
       "      <th>0</th>\n",
       "      <td>C:\\Users\\nessa\\Poromagia\\Poromagia\\back_end\\re...</td>\n",
       "      <td>KuModtr</td>\n",
       "      <td>Instant</td>\n",
       "      <td>en</td>\n",
       "    </tr>\n",
       "    <tr>\n",
       "      <th>1</th>\n",
       "      <td>C:\\Users\\nessa\\Poromagia\\Poromagia\\back_end\\re...</td>\n",
       "      <td>'goldcvi 8agc</td>\n",
       "      <td>Summon Wizard</td>\n",
       "      <td>en</td>\n",
       "    </tr>\n",
       "    <tr>\n",
       "      <th>2</th>\n",
       "      <td>C:\\Users\\nessa\\Poromagia\\Poromagia\\back_end\\re...</td>\n",
       "      <td>Renata, Called to the Hunt</td>\n",
       "      <td>Legendary Enchantment Creature Demigod</td>\n",
       "      <td>en</td>\n",
       "    </tr>\n",
       "    <tr>\n",
       "      <th>3</th>\n",
       "      <td>C:\\Users\\nessa\\Poromagia\\Poromagia\\back_end\\re...</td>\n",
       "      <td>in}</td>\n",
       "      <td>Creature Dinosaur</td>\n",
       "      <td>en</td>\n",
       "    </tr>\n",
       "    <tr>\n",
       "      <th>4</th>\n",
       "      <td>C:\\Users\\nessa\\Poromagia\\Poromagia\\back_end\\re...</td>\n",
       "      <td>P 5-15 Shriekma</td>\n",
       "      <td>Creature Elemental</td>\n",
       "      <td>en</td>\n",
       "    </tr>\n",
       "    <tr>\n",
       "      <th>5</th>\n",
       "      <td>C:\\Users\\nessa\\Poromagia\\Poromagia\\back_end\\re...</td>\n",
       "      <td>Talrand Sky Summoner</td>\n",
       "      <td>Legendary Creature Merfolk Wizard</td>\n",
       "      <td>en</td>\n",
       "    </tr>\n",
       "    <tr>\n",
       "      <th>6</th>\n",
       "      <td>C:\\Users\\nessa\\Poromagia\\Poromagia\\back_end\\re...</td>\n",
       "      <td>Yavimaya Granger</td>\n",
       "      <td>Summon Elf Echo (During your next upkeep after...</td>\n",
       "      <td>en</td>\n",
       "    </tr>\n",
       "    <tr>\n",
       "      <th>7</th>\n",
       "      <td>C:\\Users\\nessa\\Poromagia\\Poromagia\\back_end\\re...</td>\n",
       "      <td>Arcbound Slasher</td>\n",
       "      <td>Artifact Creature Cat</td>\n",
       "      <td>en</td>\n",
       "    </tr>\n",
       "    <tr>\n",
       "      <th>8</th>\n",
       "      <td>C:\\Users\\nessa\\Poromagia\\Poromagia\\back_end\\re...</td>\n",
       "      <td>Hour of Reckoning</td>\n",
       "      <td>Sorcery</td>\n",
       "      <td>en</td>\n",
       "    </tr>\n",
       "    <tr>\n",
       "      <th>9</th>\n",
       "      <td>C:\\Users\\nessa\\Poromagia\\Poromagia\\back_end\\re...</td>\n",
       "      <td>Kenrith's Transformation</td>\n",
       "      <td>Enchantment</td>\n",
       "      <td>en</td>\n",
       "    </tr>\n",
       "    <tr>\n",
       "      <th>10</th>\n",
       "      <td>C:\\Users\\nessa\\Poromagia\\Poromagia\\back_end\\re...</td>\n",
       "      <td>Tormod's Crypt</td>\n",
       "      <td>Artifact</td>\n",
       "      <td>en</td>\n",
       "    </tr>\n",
       "    <tr>\n",
       "      <th>11</th>\n",
       "      <td>C:\\Users\\nessa\\Poromagia\\Poromagia\\back_end\\re...</td>\n",
       "      <td>Trumpet Blast</td>\n",
       "      <td>4 : &amp; Lia 3</td>\n",
       "      <td>en</td>\n",
       "    </tr>\n",
       "    <tr>\n",
       "      <th>12</th>\n",
       "      <td>C:\\Users\\nessa\\Poromagia\\Poromagia\\back_end\\re...</td>\n",
       "      <td>34</td>\n",
       "      <td>Creature</td>\n",
       "      <td>en</td>\n",
       "    </tr>\n",
       "    <tr>\n",
       "      <th>13</th>\n",
       "      <td>C:\\Users\\nessa\\Poromagia\\Poromagia\\back_end\\re...</td>\n",
       "      <td>Tanglepool Bridge</td>\n",
       "      <td>Artifact Land 28303348</td>\n",
       "      <td>en</td>\n",
       "    </tr>\n",
       "    <tr>\n",
       "      <th>14</th>\n",
       "      <td>C:\\Users\\nessa\\Poromagia\\Poromagia\\back_end\\re...</td>\n",
       "      <td>1anad nt</td>\n",
       "      <td>Enchantment</td>\n",
       "      <td>en</td>\n",
       "    </tr>\n",
       "  </tbody>\n",
       "</table>\n",
       "</div>"
      ],
      "text/plain": [
       "                                                image  \\\n",
       "0   C:\\Users\\nessa\\Poromagia\\Poromagia\\back_end\\re...   \n",
       "1   C:\\Users\\nessa\\Poromagia\\Poromagia\\back_end\\re...   \n",
       "2   C:\\Users\\nessa\\Poromagia\\Poromagia\\back_end\\re...   \n",
       "3   C:\\Users\\nessa\\Poromagia\\Poromagia\\back_end\\re...   \n",
       "4   C:\\Users\\nessa\\Poromagia\\Poromagia\\back_end\\re...   \n",
       "5   C:\\Users\\nessa\\Poromagia\\Poromagia\\back_end\\re...   \n",
       "6   C:\\Users\\nessa\\Poromagia\\Poromagia\\back_end\\re...   \n",
       "7   C:\\Users\\nessa\\Poromagia\\Poromagia\\back_end\\re...   \n",
       "8   C:\\Users\\nessa\\Poromagia\\Poromagia\\back_end\\re...   \n",
       "9   C:\\Users\\nessa\\Poromagia\\Poromagia\\back_end\\re...   \n",
       "10  C:\\Users\\nessa\\Poromagia\\Poromagia\\back_end\\re...   \n",
       "11  C:\\Users\\nessa\\Poromagia\\Poromagia\\back_end\\re...   \n",
       "12  C:\\Users\\nessa\\Poromagia\\Poromagia\\back_end\\re...   \n",
       "13  C:\\Users\\nessa\\Poromagia\\Poromagia\\back_end\\re...   \n",
       "14  C:\\Users\\nessa\\Poromagia\\Poromagia\\back_end\\re...   \n",
       "\n",
       "                          name  \\\n",
       "0                      KuModtr   \n",
       "1                'goldcvi 8agc   \n",
       "2   Renata, Called to the Hunt   \n",
       "3                          in}   \n",
       "4              P 5-15 Shriekma   \n",
       "5         Talrand Sky Summoner   \n",
       "6             Yavimaya Granger   \n",
       "7             Arcbound Slasher   \n",
       "8            Hour of Reckoning   \n",
       "9     Kenrith's Transformation   \n",
       "10              Tormod's Crypt   \n",
       "11               Trumpet Blast   \n",
       "12                          34   \n",
       "13           Tanglepool Bridge   \n",
       "14                    1anad nt   \n",
       "\n",
       "                                                 type language  \n",
       "0                                             Instant       en  \n",
       "1                                       Summon Wizard       en  \n",
       "2              Legendary Enchantment Creature Demigod       en  \n",
       "3                                   Creature Dinosaur       en  \n",
       "4                                  Creature Elemental       en  \n",
       "5                   Legendary Creature Merfolk Wizard       en  \n",
       "6   Summon Elf Echo (During your next upkeep after...       en  \n",
       "7                               Artifact Creature Cat       en  \n",
       "8                                             Sorcery       en  \n",
       "9                                         Enchantment       en  \n",
       "10                                           Artifact       en  \n",
       "11                                        4 : & Lia 3       en  \n",
       "12                                           Creature       en  \n",
       "13                             Artifact Land 28303348       en  \n",
       "14                                        Enchantment       en  "
      ]
     },
     "execution_count": 19,
     "metadata": {},
     "output_type": "execute_result"
    }
   ],
   "source": [
    "df"
   ]
  },
  {
   "cell_type": "code",
   "execution_count": null,
   "metadata": {},
   "outputs": [],
   "source": []
  }
 ],
 "metadata": {
  "kernelspec": {
   "display_name": "Python 3 (ipykernel)",
   "language": "python",
   "name": "python3"
  },
  "language_info": {
   "codemirror_mode": {
    "name": "ipython",
    "version": 3
   },
   "file_extension": ".py",
   "mimetype": "text/x-python",
   "name": "python",
   "nbconvert_exporter": "python",
   "pygments_lexer": "ipython3",
   "version": "3.8.10"
  },
  "vscode": {
   "interpreter": {
    "hash": "9f0b219ec83649936bce7717ffc92d24e05b7358d200d73bcdb3e34c55ccc427"
   }
  }
 },
 "nbformat": 4,
 "nbformat_minor": 2
}
